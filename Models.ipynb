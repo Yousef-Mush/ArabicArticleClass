{
  "nbformat": 4,
  "nbformat_minor": 0,
  "metadata": {
    "colab": {
      "name": "Models.ipynb",
      "provenance": [],
      "toc_visible": true,
      "collapsed_sections": []
    },
    "kernelspec": {
      "name": "python3",
      "display_name": "Python 3"
    },
    "language_info": {
      "name": "python"
    },
    "gpuClass": "standard",
    "accelerator": "GPU"
  },
  "cells": [
    {
      "cell_type": "code",
      "execution_count": 3,
      "metadata": {
        "colab": {
          "base_uri": "https://localhost:8080/"
        },
        "id": "iPvVWK7RuwIV",
        "outputId": "b45709e7-8c5c-4aad-cc1b-ead44b48ae91"
      },
      "outputs": [
        {
          "output_type": "stream",
          "name": "stdout",
          "text": [
            "Mounted at /gdrive\n",
            "/content\n",
            "/gdrive/My Drive/Colab Notebooks/ICS506_Project\n",
            "Dataset\t\t\t\t    TextClassification_Dataset.csv\n",
            "Dataset.zip\t\t\t    TextClassification__Main.csv\n",
            "ICS506_Project_Preprocessing.ipynb  text_classifier\n",
            "Models.ipynb\t\t\t    text_clf_LR.pkl\n",
            "TextClassificaition.csv\n"
          ]
        }
      ],
      "source": [
        "from google.colab import drive\n",
        "drive.mount('/gdrive')\n",
        "\n",
        "!pwd\n",
        "%cd '/gdrive/My Drive/Colab Notebooks/ICS506_Project'\n",
        "!ls"
      ]
    },
    {
      "cell_type": "code",
      "source": [
        "import pandas as pd\n",
        "df = pd.read_csv('TextClassification__Main.csv')\n",
        "df.head()"
      ],
      "metadata": {
        "colab": {
          "base_uri": "https://localhost:8080/",
          "height": 206
        },
        "id": "QLWXvbDUu-_w",
        "outputId": "feebb68f-55bb-4e9d-d05b-975771606737"
      },
      "execution_count": 4,
      "outputs": [
        {
          "output_type": "execute_result",
          "data": {
            "text/plain": [
              "      label                                                  X  Y\n",
              "0   Medical  رأس الخيمة   عدنان عكاشة قال د   عبد الله النع...  2\n",
              "1   Finance  انخفض مؤشر سوق الإمارات منذ بداية العام الحالي...  1\n",
              "2    Sports  أهدى الرئيس الشيشاني رمضان قديروف النجم المصري...  5\n",
              "3  Politics  أعلن مكتب الملكة رانيا عقيلة العاهل الأردني ال...  3\n",
              "4  Religion  حوار جمال سالم يعد المستعرب والمستشرق الروسي  ...  4"
            ],
            "text/html": [
              "\n",
              "  <div id=\"df-1770f48c-5f36-4004-b0e3-1d11d6ae5b31\">\n",
              "    <div class=\"colab-df-container\">\n",
              "      <div>\n",
              "<style scoped>\n",
              "    .dataframe tbody tr th:only-of-type {\n",
              "        vertical-align: middle;\n",
              "    }\n",
              "\n",
              "    .dataframe tbody tr th {\n",
              "        vertical-align: top;\n",
              "    }\n",
              "\n",
              "    .dataframe thead th {\n",
              "        text-align: right;\n",
              "    }\n",
              "</style>\n",
              "<table border=\"1\" class=\"dataframe\">\n",
              "  <thead>\n",
              "    <tr style=\"text-align: right;\">\n",
              "      <th></th>\n",
              "      <th>label</th>\n",
              "      <th>X</th>\n",
              "      <th>Y</th>\n",
              "    </tr>\n",
              "  </thead>\n",
              "  <tbody>\n",
              "    <tr>\n",
              "      <th>0</th>\n",
              "      <td>Medical</td>\n",
              "      <td>رأس الخيمة   عدنان عكاشة قال د   عبد الله النع...</td>\n",
              "      <td>2</td>\n",
              "    </tr>\n",
              "    <tr>\n",
              "      <th>1</th>\n",
              "      <td>Finance</td>\n",
              "      <td>انخفض مؤشر سوق الإمارات منذ بداية العام الحالي...</td>\n",
              "      <td>1</td>\n",
              "    </tr>\n",
              "    <tr>\n",
              "      <th>2</th>\n",
              "      <td>Sports</td>\n",
              "      <td>أهدى الرئيس الشيشاني رمضان قديروف النجم المصري...</td>\n",
              "      <td>5</td>\n",
              "    </tr>\n",
              "    <tr>\n",
              "      <th>3</th>\n",
              "      <td>Politics</td>\n",
              "      <td>أعلن مكتب الملكة رانيا عقيلة العاهل الأردني ال...</td>\n",
              "      <td>3</td>\n",
              "    </tr>\n",
              "    <tr>\n",
              "      <th>4</th>\n",
              "      <td>Religion</td>\n",
              "      <td>حوار جمال سالم يعد المستعرب والمستشرق الروسي  ...</td>\n",
              "      <td>4</td>\n",
              "    </tr>\n",
              "  </tbody>\n",
              "</table>\n",
              "</div>\n",
              "      <button class=\"colab-df-convert\" onclick=\"convertToInteractive('df-1770f48c-5f36-4004-b0e3-1d11d6ae5b31')\"\n",
              "              title=\"Convert this dataframe to an interactive table.\"\n",
              "              style=\"display:none;\">\n",
              "        \n",
              "  <svg xmlns=\"http://www.w3.org/2000/svg\" height=\"24px\"viewBox=\"0 0 24 24\"\n",
              "       width=\"24px\">\n",
              "    <path d=\"M0 0h24v24H0V0z\" fill=\"none\"/>\n",
              "    <path d=\"M18.56 5.44l.94 2.06.94-2.06 2.06-.94-2.06-.94-.94-2.06-.94 2.06-2.06.94zm-11 1L8.5 8.5l.94-2.06 2.06-.94-2.06-.94L8.5 2.5l-.94 2.06-2.06.94zm10 10l.94 2.06.94-2.06 2.06-.94-2.06-.94-.94-2.06-.94 2.06-2.06.94z\"/><path d=\"M17.41 7.96l-1.37-1.37c-.4-.4-.92-.59-1.43-.59-.52 0-1.04.2-1.43.59L10.3 9.45l-7.72 7.72c-.78.78-.78 2.05 0 2.83L4 21.41c.39.39.9.59 1.41.59.51 0 1.02-.2 1.41-.59l7.78-7.78 2.81-2.81c.8-.78.8-2.07 0-2.86zM5.41 20L4 18.59l7.72-7.72 1.47 1.35L5.41 20z\"/>\n",
              "  </svg>\n",
              "      </button>\n",
              "      \n",
              "  <style>\n",
              "    .colab-df-container {\n",
              "      display:flex;\n",
              "      flex-wrap:wrap;\n",
              "      gap: 12px;\n",
              "    }\n",
              "\n",
              "    .colab-df-convert {\n",
              "      background-color: #E8F0FE;\n",
              "      border: none;\n",
              "      border-radius: 50%;\n",
              "      cursor: pointer;\n",
              "      display: none;\n",
              "      fill: #1967D2;\n",
              "      height: 32px;\n",
              "      padding: 0 0 0 0;\n",
              "      width: 32px;\n",
              "    }\n",
              "\n",
              "    .colab-df-convert:hover {\n",
              "      background-color: #E2EBFA;\n",
              "      box-shadow: 0px 1px 2px rgba(60, 64, 67, 0.3), 0px 1px 3px 1px rgba(60, 64, 67, 0.15);\n",
              "      fill: #174EA6;\n",
              "    }\n",
              "\n",
              "    [theme=dark] .colab-df-convert {\n",
              "      background-color: #3B4455;\n",
              "      fill: #D2E3FC;\n",
              "    }\n",
              "\n",
              "    [theme=dark] .colab-df-convert:hover {\n",
              "      background-color: #434B5C;\n",
              "      box-shadow: 0px 1px 3px 1px rgba(0, 0, 0, 0.15);\n",
              "      filter: drop-shadow(0px 1px 2px rgba(0, 0, 0, 0.3));\n",
              "      fill: #FFFFFF;\n",
              "    }\n",
              "  </style>\n",
              "\n",
              "      <script>\n",
              "        const buttonEl =\n",
              "          document.querySelector('#df-1770f48c-5f36-4004-b0e3-1d11d6ae5b31 button.colab-df-convert');\n",
              "        buttonEl.style.display =\n",
              "          google.colab.kernel.accessAllowed ? 'block' : 'none';\n",
              "\n",
              "        async function convertToInteractive(key) {\n",
              "          const element = document.querySelector('#df-1770f48c-5f36-4004-b0e3-1d11d6ae5b31');\n",
              "          const dataTable =\n",
              "            await google.colab.kernel.invokeFunction('convertToInteractive',\n",
              "                                                     [key], {});\n",
              "          if (!dataTable) return;\n",
              "\n",
              "          const docLinkHtml = 'Like what you see? Visit the ' +\n",
              "            '<a target=\"_blank\" href=https://colab.research.google.com/notebooks/data_table.ipynb>data table notebook</a>'\n",
              "            + ' to learn more about interactive tables.';\n",
              "          element.innerHTML = '';\n",
              "          dataTable['output_type'] = 'display_data';\n",
              "          await google.colab.output.renderOutput(dataTable, element);\n",
              "          const docLink = document.createElement('div');\n",
              "          docLink.innerHTML = docLinkHtml;\n",
              "          element.appendChild(docLink);\n",
              "        }\n",
              "      </script>\n",
              "    </div>\n",
              "  </div>\n",
              "  "
            ]
          },
          "metadata": {},
          "execution_count": 4
        }
      ]
    },
    {
      "cell_type": "markdown",
      "source": [
        "# Machine Learning"
      ],
      "metadata": {
        "id": "vEA9PsLySilq"
      }
    },
    {
      "cell_type": "code",
      "source": [
        "\n",
        "#Import libraries\n",
        "!pip install utils\n",
        "\n",
        "import os\n",
        "from keras.models import Model\n",
        "from keras.utils import np_utils\n",
        "from keras.callbacks import Callback\n",
        "from gensim.models.keyedvectors import KeyedVectors\n",
        "from time import time\n",
        "import pandas as pd\n",
        "import numpy as np\n",
        "import matplotlib.pyplot as plt\n",
        "from utils import *\n",
        "from keras.layers import Embedding, Dense, Dropout, Input#, LSTM, Bidirectional\n",
        "from keras.layers import MaxPooling1D, Conv1D, Flatten, LSTM\n",
        "from keras.preprocessing import sequence#, text\n",
        "import tensorflow_datasets as tfds\n",
        "import tensorflow as tf\n",
        "from tensorflow import keras\n",
        "from keras.preprocessing import text\n",
        "from sklearn import preprocessing\n",
        "from sklearn.model_selection import train_test_split\n",
        "from sklearn.metrics import (\n",
        "    confusion_matrix as confmat,\n",
        "    classification_report as creport\n",
        ")\n",
        "import matplotlib.pyplot as plt\n",
        "import os\n",
        "import re\n",
        "import shutil\n",
        "import string\n",
        "import tensorflow as tf\n",
        "from tensorflow.keras import layers\n",
        "from tensorflow.keras import losses\n",
        "from tensorflow.keras import preprocessing\n",
        "from tensorflow.keras.layers.experimental.preprocessing import TextVectorization\n",
        "\n"
      ],
      "metadata": {
        "colab": {
          "base_uri": "https://localhost:8080/"
        },
        "id": "JIqC8OP9u-9M",
        "outputId": "8c987591-4c15-4b35-982c-edd5785e0fb0"
      },
      "execution_count": 5,
      "outputs": [
        {
          "output_type": "stream",
          "name": "stdout",
          "text": [
            "Looking in indexes: https://pypi.org/simple, https://us-python.pkg.dev/colab-wheels/public/simple/\n",
            "Collecting utils\n",
            "  Downloading utils-1.0.1-py2.py3-none-any.whl (21 kB)\n",
            "Installing collected packages: utils\n",
            "Successfully installed utils-1.0.1\n"
          ]
        }
      ]
    },
    {
      "cell_type": "code",
      "source": [
        "X_cla = df['X'] \n",
        "y_cla = df['Y']"
      ],
      "metadata": {
        "id": "NCR1RNsc1PVv"
      },
      "execution_count": 6,
      "outputs": []
    },
    {
      "cell_type": "code",
      "source": [
        "from sklearn.model_selection import train_test_split\n",
        "\n",
        "X_train, X_test, y_train, y_test = train_test_split(X_cla, y_cla, test_size=0.25, random_state=42)"
      ],
      "metadata": {
        "id": "0fHUcHgO1PX1"
      },
      "execution_count": 7,
      "outputs": []
    },
    {
      "cell_type": "code",
      "source": [
        "from sklearn.feature_extraction.text import TfidfVectorizer\n",
        "vectorizer = TfidfVectorizer()\n",
        "\n",
        "X_train_tfidf = vectorizer.fit_transform(X_train) \n",
        "X_train_tfidf.shape"
      ],
      "metadata": {
        "colab": {
          "base_uri": "https://localhost:8080/"
        },
        "id": "xjqAxiTM1PbV",
        "outputId": "32e3eab4-a740-4c12-febd-cf52e25cb8f7"
      },
      "execution_count": 8,
      "outputs": [
        {
          "output_type": "execute_result",
          "data": {
            "text/plain": [
              "(34113, 372871)"
            ]
          },
          "metadata": {},
          "execution_count": 8
        }
      ]
    },
    {
      "cell_type": "markdown",
      "source": [
        "## Logistic Reg"
      ],
      "metadata": {
        "id": "M3RXGt22F3xp"
      }
    },
    {
      "cell_type": "code",
      "source": [
        "from sklearn.pipeline import Pipeline\n",
        "from sklearn.linear_model import LogisticRegression\n",
        "\n",
        "\n",
        "text_clf_LR = Pipeline([('tfidf', TfidfVectorizer()),\n",
        "                     ('clf', LogisticRegression(penalty='none', solver='newton-cg')),])\n",
        "\n",
        "text_clf_LR.fit(X_train, y_train)\n",
        "\n",
        "predictions = text_clf_LR.predict(X_test)"
      ],
      "metadata": {
        "id": "ECuVJ5Go5FES"
      },
      "execution_count": 9,
      "outputs": []
    },
    {
      "cell_type": "code",
      "source": [
        "from sklearn import metrics\n",
        "# from sklearn.metrics import recall_score\n",
        "print(metrics.classification_report(y_test,predictions))"
      ],
      "metadata": {
        "colab": {
          "base_uri": "https://localhost:8080/"
        },
        "id": "MJp-omKA5FGS",
        "outputId": "3fdf106e-c3f8-45ba-f093-c674cc58c713"
      },
      "execution_count": 24,
      "outputs": [
        {
          "output_type": "stream",
          "name": "stdout",
          "text": [
            "              precision    recall  f1-score   support\n",
            "\n",
            "           0       0.98      0.97      0.98       644\n",
            "           1       0.99      0.98      0.99       634\n",
            "           2       0.99      0.98      0.99       655\n",
            "           3       0.98      0.99      0.99       673\n",
            "           4       0.98      0.97      0.97       661\n",
            "           5       0.99      0.99      0.99       676\n",
            "           6       0.97      0.99      0.98       606\n",
            "\n",
            "    accuracy                           0.98      4549\n",
            "   macro avg       0.98      0.98      0.98      4549\n",
            "weighted avg       0.98      0.98      0.98      4549\n",
            "\n"
          ]
        }
      ]
    },
    {
      "cell_type": "code",
      "source": [
        "import matplotlib.pyplot as plt\n",
        "from sklearn.metrics import confusion_matrix, ConfusionMatrixDisplay\n",
        "\n",
        "cm = confusion_matrix(y_test, predictions)\n",
        "disp = ConfusionMatrixDisplay(confusion_matrix=cm)\n",
        "disp.plot()\n",
        "plt.show()"
      ],
      "metadata": {
        "colab": {
          "base_uri": "https://localhost:8080/",
          "height": 279
        },
        "id": "WLb9ghXaIyil",
        "outputId": "c4297d15-6148-47f2-c8a4-9e88b0742112"
      },
      "execution_count": 25,
      "outputs": [
        {
          "output_type": "display_data",
          "data": {
            "text/plain": [
              "<Figure size 432x288 with 2 Axes>"
            ],
            "image/png": "[encoded data removed]"
          },
          "metadata": {
            "needs_background": "light"
          }
        }
      ]
    },
    {
      "cell_type": "markdown",
      "source": [
        "## KNN"
      ],
      "metadata": {
        "id": "xMEI7iNFGACW"
      }
    },
    {
      "cell_type": "code",
      "source": [
        "from sklearn.neighbors import KNeighborsClassifier\n",
        "# >>> neigh = KNeighborsClassifier(n_neighbors=3)\n",
        "\n",
        "text_clf_KNN = Pipeline([('tfidf', TfidfVectorizer()),\n",
        "                     ('clf', KNeighborsClassifier()),])\n",
        "\n",
        "text_clf_KNN.fit(X_train, y_train)\n",
        "\n",
        "predictions = text_clf_KNN.predict(X_test)"
      ],
      "metadata": {
        "id": "qtW392-aGDYU"
      },
      "execution_count": 26,
      "outputs": []
    },
    {
      "cell_type": "code",
      "source": [
        "from sklearn import metrics\n",
        "from sklearn.metrics import recall_score\n",
        "print(metrics.classification_report(y_test,predictions))"
      ],
      "metadata": {
        "colab": {
          "base_uri": "https://localhost:8080/"
        },
        "id": "S0k7q0gSGqWE",
        "outputId": "5f760e8e-1de9-422f-ba34-4cc1b92e5265"
      },
      "execution_count": 27,
      "outputs": [
        {
          "output_type": "stream",
          "name": "stdout",
          "text": [
            "              precision    recall  f1-score   support\n",
            "\n",
            "           0       0.93      0.88      0.90       644\n",
            "           1       0.96      0.99      0.97       634\n",
            "           2       0.96      0.94      0.95       655\n",
            "           3       0.96      0.91      0.93       673\n",
            "           4       0.88      0.94      0.91       661\n",
            "           5       0.99      0.98      0.99       676\n",
            "           6       0.91      0.97      0.94       606\n",
            "\n",
            "    accuracy                           0.94      4549\n",
            "   macro avg       0.94      0.94      0.94      4549\n",
            "weighted avg       0.94      0.94      0.94      4549\n",
            "\n"
          ]
        }
      ]
    },
    {
      "cell_type": "code",
      "source": [
        "import matplotlib.pyplot as plt\n",
        "from sklearn.metrics import confusion_matrix, ConfusionMatrixDisplay\n",
        "\n",
        "cm = confusion_matrix(y_test, predictions)\n",
        "disp = ConfusionMatrixDisplay(confusion_matrix=cm)\n",
        "disp.plot()\n",
        "plt.show()"
      ],
      "metadata": {
        "colab": {
          "base_uri": "https://localhost:8080/",
          "height": 279
        },
        "id": "4lKk2akfIvyJ",
        "outputId": "5f88d26a-a2b5-40ac-d753-0f46b1a16924"
      },
      "execution_count": 28,
      "outputs": [
        {
          "output_type": "display_data",
          "data": {
            "text/plain": [
              "<Figure size 432x288 with 2 Axes>"
            ],
            "image/png": "[encoded data removed]"
          },
          "metadata": {
            "needs_background": "light"
          }
        }
      ]
    },
    {
      "cell_type": "markdown",
      "source": [
        "## Decision Tree"
      ],
      "metadata": {
        "id": "J2P3V3iIGrIS"
      }
    },
    {
      "cell_type": "code",
      "source": [
        "from sklearn.tree import DecisionTreeClassifier\n",
        "# >>> neigh = KNeighborsClassifier(n_neighbors=3)\n",
        "\n",
        "text_clf_DT = Pipeline([('tfidf', TfidfVectorizer()),\n",
        "                     ('clf', DecisionTreeClassifier()),])\n",
        "\n",
        "text_clf_DT.fit(X_train, y_train)\n",
        "\n",
        "predictions = text_clf_DT.predict(X_test)"
      ],
      "metadata": {
        "id": "CJB0oaUJHEdo"
      },
      "execution_count": 29,
      "outputs": []
    },
    {
      "cell_type": "code",
      "source": [
        "from sklearn import metrics\n",
        "from sklearn.metrics import recall_score\n",
        "print(metrics.classification_report(y_test,predictions))"
      ],
      "metadata": {
        "colab": {
          "base_uri": "https://localhost:8080/"
        },
        "id": "1d_peBWzHRqy",
        "outputId": "3dac6bdc-fa23-4cde-b41a-0be808638c2f"
      },
      "execution_count": 30,
      "outputs": [
        {
          "output_type": "stream",
          "name": "stdout",
          "text": [
            "              precision    recall  f1-score   support\n",
            "\n",
            "           0       0.86      0.85      0.85       644\n",
            "           1       0.92      0.92      0.92       634\n",
            "           2       0.92      0.89      0.91       655\n",
            "           3       0.85      0.88      0.87       673\n",
            "           4       0.89      0.88      0.88       661\n",
            "           5       0.95      0.93      0.94       676\n",
            "           6       0.83      0.86      0.84       606\n",
            "\n",
            "    accuracy                           0.89      4549\n",
            "   macro avg       0.89      0.89      0.89      4549\n",
            "weighted avg       0.89      0.89      0.89      4549\n",
            "\n"
          ]
        }
      ]
    },
    {
      "cell_type": "code",
      "source": [
        "import matplotlib.pyplot as plt\n",
        "from sklearn.metrics import confusion_matrix, ConfusionMatrixDisplay\n",
        "\n",
        "cm = confusion_matrix(y_test, predictions)\n",
        "disp = ConfusionMatrixDisplay(confusion_matrix=cm)\n",
        "disp.plot()\n",
        "plt.show()"
      ],
      "metadata": {
        "colab": {
          "base_uri": "https://localhost:8080/",
          "height": 279
        },
        "id": "vrKZlIEPIUYI",
        "outputId": "935941ba-7fed-4433-a578-153381cbe5c6"
      },
      "execution_count": 31,
      "outputs": [
        {
          "output_type": "display_data",
          "data": {
            "text/plain": [
              "<Figure size 432x288 with 2 Axes>"
            ],
            "image/png": "[encoded data removed]"
          },
          "metadata": {
            "needs_background": "light"
          }
        }
      ]
    },
    {
      "cell_type": "markdown",
      "source": [
        "# Deep Learning"
      ],
      "metadata": {
        "id": "PHXXzLTNKBxX"
      }
    },
    {
      "cell_type": "code",
      "source": [
        "import re\n",
        "import matplotlib.pyplot as plt\n",
        "import string\n",
        "from nltk.corpus import stopwords\n",
        "import nltk\n",
        "from nltk.corpus import wordnet\n",
        "from nltk.stem import WordNetLemmatizer\n",
        "from nltk.tokenize.treebank import TreebankWordDetokenizer\n",
        "from collections import Counter\n",
        "from wordcloud import WordCloud\n",
        "from nltk.corpus import stopwords\n",
        "import nltk\n",
        "from gensim.utils import simple_preprocess\n",
        "from nltk.corpus import stopwords\n",
        "import gensim\n",
        "from sklearn.model_selection import train_test_split\n",
        "import spacy\n",
        "import pickle\n",
        "import warnings\n",
        "warnings.filterwarnings('ignore')\n",
        "import seaborn as sns\n",
        "from sklearn.metrics import confusion_matrix\n",
        "import matplotlib.pyplot as plt \n",
        "import tensorflow as tf\n",
        "import keras\n",
        "import numpy as np\n",
        "import pandas as pd\n",
        "print('Done')"
      ],
      "metadata": {
        "colab": {
          "base_uri": "https://localhost:8080/"
        },
        "id": "cSl9yyNLKDk3",
        "outputId": "dfbf3d02-544a-465f-ba3e-3cc22d7a7540"
      },
      "execution_count": 32,
      "outputs": [
        {
          "output_type": "stream",
          "name": "stdout",
          "text": [
            "Done\n"
          ]
        }
      ]
    },
    {
      "cell_type": "code",
      "source": [
        "df.head()"
      ],
      "metadata": {
        "colab": {
          "base_uri": "https://localhost:8080/",
          "height": 206
        },
        "id": "8eOuMGuyKDpx",
        "outputId": "692efa4e-5f71-490b-c881-16bd48b486fc"
      },
      "execution_count": 33,
      "outputs": [
        {
          "output_type": "execute_result",
          "data": {
            "text/plain": [
              "      label                                                  X  Y\n",
              "0   Medical  رأس الخيمة   عدنان عكاشة قال د   عبد الله النع...  2\n",
              "1   Finance  انخفض مؤشر سوق الإمارات منذ بداية العام الحالي...  1\n",
              "2    Sports  أهدى الرئيس الشيشاني رمضان قديروف النجم المصري...  5\n",
              "3  Politics  أعلن مكتب الملكة رانيا عقيلة العاهل الأردني ال...  3\n",
              "4  Religion  حوار جمال سالم يعد المستعرب والمستشرق الروسي  ...  4"
            ],
            "text/html": [
              "\n",
              "  <div id=\"df-33b51baf-64fd-42ae-9a6f-49e71df88082\">\n",
              "    <div class=\"colab-df-container\">\n",
              "      <div>\n",
              "<style scoped>\n",
              "    .dataframe tbody tr th:only-of-type {\n",
              "        vertical-align: middle;\n",
              "    }\n",
              "\n",
              "    .dataframe tbody tr th {\n",
              "        vertical-align: top;\n",
              "    }\n",
              "\n",
              "    .dataframe thead th {\n",
              "        text-align: right;\n",
              "    }\n",
              "</style>\n",
              "<table border=\"1\" class=\"dataframe\">\n",
              "  <thead>\n",
              "    <tr style=\"text-align: right;\">\n",
              "      <th></th>\n",
              "      <th>label</th>\n",
              "      <th>X</th>\n",
              "      <th>Y</th>\n",
              "    </tr>\n",
              "  </thead>\n",
              "  <tbody>\n",
              "    <tr>\n",
              "      <th>0</th>\n",
              "      <td>Medical</td>\n",
              "      <td>رأس الخيمة   عدنان عكاشة قال د   عبد الله النع...</td>\n",
              "      <td>2</td>\n",
              "    </tr>\n",
              "    <tr>\n",
              "      <th>1</th>\n",
              "      <td>Finance</td>\n",
              "      <td>انخفض مؤشر سوق الإمارات منذ بداية العام الحالي...</td>\n",
              "      <td>1</td>\n",
              "    </tr>\n",
              "    <tr>\n",
              "      <th>2</th>\n",
              "      <td>Sports</td>\n",
              "      <td>أهدى الرئيس الشيشاني رمضان قديروف النجم المصري...</td>\n",
              "      <td>5</td>\n",
              "    </tr>\n",
              "    <tr>\n",
              "      <th>3</th>\n",
              "      <td>Politics</td>\n",
              "      <td>أعلن مكتب الملكة رانيا عقيلة العاهل الأردني ال...</td>\n",
              "      <td>3</td>\n",
              "    </tr>\n",
              "    <tr>\n",
              "      <th>4</th>\n",
              "      <td>Religion</td>\n",
              "      <td>حوار جمال سالم يعد المستعرب والمستشرق الروسي  ...</td>\n",
              "      <td>4</td>\n",
              "    </tr>\n",
              "  </tbody>\n",
              "</table>\n",
              "</div>\n",
              "      <button class=\"colab-df-convert\" onclick=\"convertToInteractive('df-33b51baf-64fd-42ae-9a6f-49e71df88082')\"\n",
              "              title=\"Convert this dataframe to an interactive table.\"\n",
              "              style=\"display:none;\">\n",
              "        \n",
              "  <svg xmlns=\"http://www.w3.org/2000/svg\" height=\"24px\"viewBox=\"0 0 24 24\"\n",
              "       width=\"24px\">\n",
              "    <path d=\"M0 0h24v24H0V0z\" fill=\"none\"/>\n",
              "    <path d=\"M18.56 5.44l.94 2.06.94-2.06 2.06-.94-2.06-.94-.94-2.06-.94 2.06-2.06.94zm-11 1L8.5 8.5l.94-2.06 2.06-.94-2.06-.94L8.5 2.5l-.94 2.06-2.06.94zm10 10l.94 2.06.94-2.06 2.06-.94-2.06-.94-.94-2.06-.94 2.06-2.06.94z\"/><path d=\"M17.41 7.96l-1.37-1.37c-.4-.4-.92-.59-1.43-.59-.52 0-1.04.2-1.43.59L10.3 9.45l-7.72 7.72c-.78.78-.78 2.05 0 2.83L4 21.41c.39.39.9.59 1.41.59.51 0 1.02-.2 1.41-.59l7.78-7.78 2.81-2.81c.8-.78.8-2.07 0-2.86zM5.41 20L4 18.59l7.72-7.72 1.47 1.35L5.41 20z\"/>\n",
              "  </svg>\n",
              "      </button>\n",
              "      \n",
              "  <style>\n",
              "    .colab-df-container {\n",
              "      display:flex;\n",
              "      flex-wrap:wrap;\n",
              "      gap: 12px;\n",
              "    }\n",
              "\n",
              "    .colab-df-convert {\n",
              "      background-color: #E8F0FE;\n",
              "      border: none;\n",
              "      border-radius: 50%;\n",
              "      cursor: pointer;\n",
              "      display: none;\n",
              "      fill: #1967D2;\n",
              "      height: 32px;\n",
              "      padding: 0 0 0 0;\n",
              "      width: 32px;\n",
              "    }\n",
              "\n",
              "    .colab-df-convert:hover {\n",
              "      background-color: #E2EBFA;\n",
              "      box-shadow: 0px 1px 2px rgba(60, 64, 67, 0.3), 0px 1px 3px 1px rgba(60, 64, 67, 0.15);\n",
              "      fill: #174EA6;\n",
              "    }\n",
              "\n",
              "    [theme=dark] .colab-df-convert {\n",
              "      background-color: #3B4455;\n",
              "      fill: #D2E3FC;\n",
              "    }\n",
              "\n",
              "    [theme=dark] .colab-df-convert:hover {\n",
              "      background-color: #434B5C;\n",
              "      box-shadow: 0px 1px 3px 1px rgba(0, 0, 0, 0.15);\n",
              "      filter: drop-shadow(0px 1px 2px rgba(0, 0, 0, 0.3));\n",
              "      fill: #FFFFFF;\n",
              "    }\n",
              "  </style>\n",
              "\n",
              "      <script>\n",
              "        const buttonEl =\n",
              "          document.querySelector('#df-33b51baf-64fd-42ae-9a6f-49e71df88082 button.colab-df-convert');\n",
              "        buttonEl.style.display =\n",
              "          google.colab.kernel.accessAllowed ? 'block' : 'none';\n",
              "\n",
              "        async function convertToInteractive(key) {\n",
              "          const element = document.querySelector('#df-33b51baf-64fd-42ae-9a6f-49e71df88082');\n",
              "          const dataTable =\n",
              "            await google.colab.kernel.invokeFunction('convertToInteractive',\n",
              "                                                     [key], {});\n",
              "          if (!dataTable) return;\n",
              "\n",
              "          const docLinkHtml = 'Like what you see? Visit the ' +\n",
              "            '<a target=\"_blank\" href=https://colab.research.google.com/notebooks/data_table.ipynb>data table notebook</a>'\n",
              "            + ' to learn more about interactive tables.';\n",
              "          element.innerHTML = '';\n",
              "          dataTable['output_type'] = 'display_data';\n",
              "          await google.colab.output.renderOutput(dataTable, element);\n",
              "          const docLink = document.createElement('div');\n",
              "          docLink.innerHTML = docLinkHtml;\n",
              "          element.appendChild(docLink);\n",
              "        }\n",
              "      </script>\n",
              "    </div>\n",
              "  </div>\n",
              "  "
            ]
          },
          "metadata": {},
          "execution_count": 33
        }
      ]
    },
    {
      "cell_type": "code",
      "source": [
        "df['label'].unique()"
      ],
      "metadata": {
        "colab": {
          "base_uri": "https://localhost:8080/"
        },
        "id": "e0zpic1GKDsV",
        "outputId": "9e0a5c6e-8047-4926-bb4a-3ac0fb156ccb"
      },
      "execution_count": 34,
      "outputs": [
        {
          "output_type": "execute_result",
          "data": {
            "text/plain": [
              "array(['Medical', 'Finance', 'Sports', 'Politics', 'Religion', 'Tech',\n",
              "       'Culture'], dtype=object)"
            ]
          },
          "metadata": {},
          "execution_count": 34
        }
      ]
    },
    {
      "cell_type": "code",
      "source": [
        "df.groupby('label').nunique()\n"
      ],
      "metadata": {
        "colab": {
          "base_uri": "https://localhost:8080/",
          "height": 300
        },
        "id": "BO2aFVFSKDui",
        "outputId": "fcbf1b4c-2536-4aa5-acc1-be2edb261b1b"
      },
      "execution_count": 35,
      "outputs": [
        {
          "output_type": "execute_result",
          "data": {
            "text/plain": [
              "             X  Y\n",
              "label            \n",
              "Culture   6495  1\n",
              "Finance   6499  1\n",
              "Medical   6500  1\n",
              "Politics  6499  1\n",
              "Religion  6493  1\n",
              "Sports    6499  1\n",
              "Tech      6500  1"
            ],
            "text/html": [
              "\n",
              "  <div id=\"df-52aefb62-3093-4359-b002-3d716c8ad6e9\">\n",
              "    <div class=\"colab-df-container\">\n",
              "      <div>\n",
              "<style scoped>\n",
              "    .dataframe tbody tr th:only-of-type {\n",
              "        vertical-align: middle;\n",
              "    }\n",
              "\n",
              "    .dataframe tbody tr th {\n",
              "        vertical-align: top;\n",
              "    }\n",
              "\n",
              "    .dataframe thead th {\n",
              "        text-align: right;\n",
              "    }\n",
              "</style>\n",
              "<table border=\"1\" class=\"dataframe\">\n",
              "  <thead>\n",
              "    <tr style=\"text-align: right;\">\n",
              "      <th></th>\n",
              "      <th>X</th>\n",
              "      <th>Y</th>\n",
              "    </tr>\n",
              "    <tr>\n",
              "      <th>label</th>\n",
              "      <th></th>\n",
              "      <th></th>\n",
              "    </tr>\n",
              "  </thead>\n",
              "  <tbody>\n",
              "    <tr>\n",
              "      <th>Culture</th>\n",
              "      <td>6495</td>\n",
              "      <td>1</td>\n",
              "    </tr>\n",
              "    <tr>\n",
              "      <th>Finance</th>\n",
              "      <td>6499</td>\n",
              "      <td>1</td>\n",
              "    </tr>\n",
              "    <tr>\n",
              "      <th>Medical</th>\n",
              "      <td>6500</td>\n",
              "      <td>1</td>\n",
              "    </tr>\n",
              "    <tr>\n",
              "      <th>Politics</th>\n",
              "      <td>6499</td>\n",
              "      <td>1</td>\n",
              "    </tr>\n",
              "    <tr>\n",
              "      <th>Religion</th>\n",
              "      <td>6493</td>\n",
              "      <td>1</td>\n",
              "    </tr>\n",
              "    <tr>\n",
              "      <th>Sports</th>\n",
              "      <td>6499</td>\n",
              "      <td>1</td>\n",
              "    </tr>\n",
              "    <tr>\n",
              "      <th>Tech</th>\n",
              "      <td>6500</td>\n",
              "      <td>1</td>\n",
              "    </tr>\n",
              "  </tbody>\n",
              "</table>\n",
              "</div>\n",
              "      <button class=\"colab-df-convert\" onclick=\"convertToInteractive('df-52aefb62-3093-4359-b002-3d716c8ad6e9')\"\n",
              "              title=\"Convert this dataframe to an interactive table.\"\n",
              "              style=\"display:none;\">\n",
              "        \n",
              "  <svg xmlns=\"http://www.w3.org/2000/svg\" height=\"24px\"viewBox=\"0 0 24 24\"\n",
              "       width=\"24px\">\n",
              "    <path d=\"M0 0h24v24H0V0z\" fill=\"none\"/>\n",
              "    <path d=\"M18.56 5.44l.94 2.06.94-2.06 2.06-.94-2.06-.94-.94-2.06-.94 2.06-2.06.94zm-11 1L8.5 8.5l.94-2.06 2.06-.94-2.06-.94L8.5 2.5l-.94 2.06-2.06.94zm10 10l.94 2.06.94-2.06 2.06-.94-2.06-.94-.94-2.06-.94 2.06-2.06.94z\"/><path d=\"M17.41 7.96l-1.37-1.37c-.4-.4-.92-.59-1.43-.59-.52 0-1.04.2-1.43.59L10.3 9.45l-7.72 7.72c-.78.78-.78 2.05 0 2.83L4 21.41c.39.39.9.59 1.41.59.51 0 1.02-.2 1.41-.59l7.78-7.78 2.81-2.81c.8-.78.8-2.07 0-2.86zM5.41 20L4 18.59l7.72-7.72 1.47 1.35L5.41 20z\"/>\n",
              "  </svg>\n",
              "      </button>\n",
              "      \n",
              "  <style>\n",
              "    .colab-df-container {\n",
              "      display:flex;\n",
              "      flex-wrap:wrap;\n",
              "      gap: 12px;\n",
              "    }\n",
              "\n",
              "    .colab-df-convert {\n",
              "      background-color: #E8F0FE;\n",
              "      border: none;\n",
              "      border-radius: 50%;\n",
              "      cursor: pointer;\n",
              "      display: none;\n",
              "      fill: #1967D2;\n",
              "      height: 32px;\n",
              "      padding: 0 0 0 0;\n",
              "      width: 32px;\n",
              "    }\n",
              "\n",
              "    .colab-df-convert:hover {\n",
              "      background-color: #E2EBFA;\n",
              "      box-shadow: 0px 1px 2px rgba(60, 64, 67, 0.3), 0px 1px 3px 1px rgba(60, 64, 67, 0.15);\n",
              "      fill: #174EA6;\n",
              "    }\n",
              "\n",
              "    [theme=dark] .colab-df-convert {\n",
              "      background-color: #3B4455;\n",
              "      fill: #D2E3FC;\n",
              "    }\n",
              "\n",
              "    [theme=dark] .colab-df-convert:hover {\n",
              "      background-color: #434B5C;\n",
              "      box-shadow: 0px 1px 3px 1px rgba(0, 0, 0, 0.15);\n",
              "      filter: drop-shadow(0px 1px 2px rgba(0, 0, 0, 0.3));\n",
              "      fill: #FFFFFF;\n",
              "    }\n",
              "  </style>\n",
              "\n",
              "      <script>\n",
              "        const buttonEl =\n",
              "          document.querySelector('#df-52aefb62-3093-4359-b002-3d716c8ad6e9 button.colab-df-convert');\n",
              "        buttonEl.style.display =\n",
              "          google.colab.kernel.accessAllowed ? 'block' : 'none';\n",
              "\n",
              "        async function convertToInteractive(key) {\n",
              "          const element = document.querySelector('#df-52aefb62-3093-4359-b002-3d716c8ad6e9');\n",
              "          const dataTable =\n",
              "            await google.colab.kernel.invokeFunction('convertToInteractive',\n",
              "                                                     [key], {});\n",
              "          if (!dataTable) return;\n",
              "\n",
              "          const docLinkHtml = 'Like what you see? Visit the ' +\n",
              "            '<a target=\"_blank\" href=https://colab.research.google.com/notebooks/data_table.ipynb>data table notebook</a>'\n",
              "            + ' to learn more about interactive tables.';\n",
              "          element.innerHTML = '';\n",
              "          dataTable['output_type'] = 'display_data';\n",
              "          await google.colab.output.renderOutput(dataTable, element);\n",
              "          const docLink = document.createElement('div');\n",
              "          docLink.innerHTML = docLinkHtml;\n",
              "          element.appendChild(docLink);\n",
              "        }\n",
              "      </script>\n",
              "    </div>\n",
              "  </div>\n",
              "  "
            ]
          },
          "metadata": {},
          "execution_count": 35
        }
      ]
    },
    {
      "cell_type": "code",
      "source": [
        "train = df[['X','label']]\n",
        "train.head()"
      ],
      "metadata": {
        "colab": {
          "base_uri": "https://localhost:8080/",
          "height": 206
        },
        "id": "qagE8_zpKDw4",
        "outputId": "5af0cc57-bf51-4ec4-c208-520988cdee78"
      },
      "execution_count": 36,
      "outputs": [
        {
          "output_type": "execute_result",
          "data": {
            "text/plain": [
              "                                                   X     label\n",
              "0  رأس الخيمة   عدنان عكاشة قال د   عبد الله النع...   Medical\n",
              "1  انخفض مؤشر سوق الإمارات منذ بداية العام الحالي...   Finance\n",
              "2  أهدى الرئيس الشيشاني رمضان قديروف النجم المصري...    Sports\n",
              "3  أعلن مكتب الملكة رانيا عقيلة العاهل الأردني ال...  Politics\n",
              "4  حوار جمال سالم يعد المستعرب والمستشرق الروسي  ...  Religion"
            ],
            "text/html": [
              "\n",
              "  <div id=\"df-1acfad55-4a7d-44b0-bc14-087e22f34a68\">\n",
              "    <div class=\"colab-df-container\">\n",
              "      <div>\n",
              "<style scoped>\n",
              "    .dataframe tbody tr th:only-of-type {\n",
              "        vertical-align: middle;\n",
              "    }\n",
              "\n",
              "    .dataframe tbody tr th {\n",
              "        vertical-align: top;\n",
              "    }\n",
              "\n",
              "    .dataframe thead th {\n",
              "        text-align: right;\n",
              "    }\n",
              "</style>\n",
              "<table border=\"1\" class=\"dataframe\">\n",
              "  <thead>\n",
              "    <tr style=\"text-align: right;\">\n",
              "      <th></th>\n",
              "      <th>X</th>\n",
              "      <th>label</th>\n",
              "    </tr>\n",
              "  </thead>\n",
              "  <tbody>\n",
              "    <tr>\n",
              "      <th>0</th>\n",
              "      <td>رأس الخيمة   عدنان عكاشة قال د   عبد الله النع...</td>\n",
              "      <td>Medical</td>\n",
              "    </tr>\n",
              "    <tr>\n",
              "      <th>1</th>\n",
              "      <td>انخفض مؤشر سوق الإمارات منذ بداية العام الحالي...</td>\n",
              "      <td>Finance</td>\n",
              "    </tr>\n",
              "    <tr>\n",
              "      <th>2</th>\n",
              "      <td>أهدى الرئيس الشيشاني رمضان قديروف النجم المصري...</td>\n",
              "      <td>Sports</td>\n",
              "    </tr>\n",
              "    <tr>\n",
              "      <th>3</th>\n",
              "      <td>أعلن مكتب الملكة رانيا عقيلة العاهل الأردني ال...</td>\n",
              "      <td>Politics</td>\n",
              "    </tr>\n",
              "    <tr>\n",
              "      <th>4</th>\n",
              "      <td>حوار جمال سالم يعد المستعرب والمستشرق الروسي  ...</td>\n",
              "      <td>Religion</td>\n",
              "    </tr>\n",
              "  </tbody>\n",
              "</table>\n",
              "</div>\n",
              "      <button class=\"colab-df-convert\" onclick=\"convertToInteractive('df-1acfad55-4a7d-44b0-bc14-087e22f34a68')\"\n",
              "              title=\"Convert this dataframe to an interactive table.\"\n",
              "              style=\"display:none;\">\n",
              "        \n",
              "  <svg xmlns=\"http://www.w3.org/2000/svg\" height=\"24px\"viewBox=\"0 0 24 24\"\n",
              "       width=\"24px\">\n",
              "    <path d=\"M0 0h24v24H0V0z\" fill=\"none\"/>\n",
              "    <path d=\"M18.56 5.44l.94 2.06.94-2.06 2.06-.94-2.06-.94-.94-2.06-.94 2.06-2.06.94zm-11 1L8.5 8.5l.94-2.06 2.06-.94-2.06-.94L8.5 2.5l-.94 2.06-2.06.94zm10 10l.94 2.06.94-2.06 2.06-.94-2.06-.94-.94-2.06-.94 2.06-2.06.94z\"/><path d=\"M17.41 7.96l-1.37-1.37c-.4-.4-.92-.59-1.43-.59-.52 0-1.04.2-1.43.59L10.3 9.45l-7.72 7.72c-.78.78-.78 2.05 0 2.83L4 21.41c.39.39.9.59 1.41.59.51 0 1.02-.2 1.41-.59l7.78-7.78 2.81-2.81c.8-.78.8-2.07 0-2.86zM5.41 20L4 18.59l7.72-7.72 1.47 1.35L5.41 20z\"/>\n",
              "  </svg>\n",
              "      </button>\n",
              "      \n",
              "  <style>\n",
              "    .colab-df-container {\n",
              "      display:flex;\n",
              "      flex-wrap:wrap;\n",
              "      gap: 12px;\n",
              "    }\n",
              "\n",
              "    .colab-df-convert {\n",
              "      background-color: #E8F0FE;\n",
              "      border: none;\n",
              "      border-radius: 50%;\n",
              "      cursor: pointer;\n",
              "      display: none;\n",
              "      fill: #1967D2;\n",
              "      height: 32px;\n",
              "      padding: 0 0 0 0;\n",
              "      width: 32px;\n",
              "    }\n",
              "\n",
              "    .colab-df-convert:hover {\n",
              "      background-color: #E2EBFA;\n",
              "      box-shadow: 0px 1px 2px rgba(60, 64, 67, 0.3), 0px 1px 3px 1px rgba(60, 64, 67, 0.15);\n",
              "      fill: #174EA6;\n",
              "    }\n",
              "\n",
              "    [theme=dark] .colab-df-convert {\n",
              "      background-color: #3B4455;\n",
              "      fill: #D2E3FC;\n",
              "    }\n",
              "\n",
              "    [theme=dark] .colab-df-convert:hover {\n",
              "      background-color: #434B5C;\n",
              "      box-shadow: 0px 1px 3px 1px rgba(0, 0, 0, 0.15);\n",
              "      filter: drop-shadow(0px 1px 2px rgba(0, 0, 0, 0.3));\n",
              "      fill: #FFFFFF;\n",
              "    }\n",
              "  </style>\n",
              "\n",
              "      <script>\n",
              "        const buttonEl =\n",
              "          document.querySelector('#df-1acfad55-4a7d-44b0-bc14-087e22f34a68 button.colab-df-convert');\n",
              "        buttonEl.style.display =\n",
              "          google.colab.kernel.accessAllowed ? 'block' : 'none';\n",
              "\n",
              "        async function convertToInteractive(key) {\n",
              "          const element = document.querySelector('#df-1acfad55-4a7d-44b0-bc14-087e22f34a68');\n",
              "          const dataTable =\n",
              "            await google.colab.kernel.invokeFunction('convertToInteractive',\n",
              "                                                     [key], {});\n",
              "          if (!dataTable) return;\n",
              "\n",
              "          const docLinkHtml = 'Like what you see? Visit the ' +\n",
              "            '<a target=\"_blank\" href=https://colab.research.google.com/notebooks/data_table.ipynb>data table notebook</a>'\n",
              "            + ' to learn more about interactive tables.';\n",
              "          element.innerHTML = '';\n",
              "          dataTable['output_type'] = 'display_data';\n",
              "          await google.colab.output.renderOutput(dataTable, element);\n",
              "          const docLink = document.createElement('div');\n",
              "          docLink.innerHTML = docLinkHtml;\n",
              "          element.appendChild(docLink);\n",
              "        }\n",
              "      </script>\n",
              "    </div>\n",
              "  </div>\n",
              "  "
            ]
          },
          "metadata": {},
          "execution_count": 36
        }
      ]
    },
    {
      "cell_type": "code",
      "source": [
        "train[\"X\"].isnull().sum()"
      ],
      "metadata": {
        "colab": {
          "base_uri": "https://localhost:8080/"
        },
        "id": "W7Pyrbx0KDzJ",
        "outputId": "d71e842c-2be2-4fc8-faaf-0659947deae1"
      },
      "execution_count": 37,
      "outputs": [
        {
          "output_type": "execute_result",
          "data": {
            "text/plain": [
              "0"
            ]
          },
          "metadata": {},
          "execution_count": 37
        }
      ]
    },
    {
      "cell_type": "code",
      "source": [
        "temp = []\n",
        "#Splitting pd.Series to list\n",
        "data_to_list = train['X'].values.tolist()\n",
        "for i in range(len(data_to_list)):\n",
        "    temp.append(data_to_list[i])\n",
        "list(temp[:1])\n"
      ],
      "metadata": {
        "colab": {
          "base_uri": "https://localhost:8080/"
        },
        "id": "Acwyfes7KD1Q",
        "outputId": "b498a1e8-2bb0-404a-dbac-bc0f101a1128"
      },
      "execution_count": 38,
      "outputs": [
        {
          "output_type": "execute_result",
          "data": {
            "text/plain": [
              "['رأس الخيمة   عدنان عكاشة قال د   عبد الله النعيمي  مدير منطقة رأس الخيمة الطبية  إن نسبة الإنجاز في مشروع إحلال مركز الجير للرعاية الصحية الأولية  الذي يعد من أقدم المراكز الصحية في الإمارة  حيث افتتح عام  1974 بلغت 75   ومن المتوقع الانتهاء من تشييد المركز الجديد في يوليو  تموز المقبل  ويعد المبنى الحالي للمركز  الذي يتواصل العمل فيه مؤقتا  إلى حين الانتهاء من مشروع الإحلال  ويصل عمره إلى 41 عاما   عبارة عن مسكن شعبي قديم  ووفقا  للدكتور النعيمي  سيكون المركز  الذي يقع المركز في منطقة الجير  نحو 40 كيلومترا شمال مركز مدينة رأس الخيمة  من أكبر المراكز الصحية التابعة لمنطقة رأس الخيمة الطبية  ويتكون من مبنى رئيسي يتألف من دور واحد  ويضم 22 حجرة وعيادة  ويشتمل المركز  في محيطه الخارجي  على غرف خاصة للحراسة وخدمات الكهرباء والخدمات الصحية  الميكانيكية  ومواقف للسيارات تستوعب 93 مركبة  منها 18 موقفا  مظللا   وأخرى غير مظللة تتسع ل 75 سيارة  ومساحات خضراء  ووفقا لمصادر مختصة  تبلغ التكلفة الإجمالية للمشروع 8 ملايين و670 ألف درهم  وينفذ في موقع مجاور لأحد جبال المنطقة  وعلى مسافة قريبة من مركز أس الدارة الحدودي مع سلطنة عمان الشقيقة  ويمتد على مساحة 410532 مترا  مربعا   فيما يشغل البناء 1388 مترا  مربعا   ']"
            ]
          },
          "metadata": {},
          "execution_count": 38
        }
      ]
    },
    {
      "cell_type": "code",
      "source": [
        "data = np.array(temp)\n"
      ],
      "metadata": {
        "id": "xzVwTAD9LZ-Y"
      },
      "execution_count": 39,
      "outputs": []
    },
    {
      "cell_type": "code",
      "source": [
        "labels = np.array(train['label'])\n",
        "y = []\n",
        "\n",
        "for i in range(len(labels)):\n",
        "    if labels[i] == 'Culture':\n",
        "        y.append(0)\n",
        "    if labels[i] == 'Finance':\n",
        "        y.append(1)\n",
        "    if labels[i] == 'Medical':\n",
        "        y.append(2)\n",
        "    if labels[i] == 'Politics':\n",
        "        y.append(3)\n",
        "    if labels[i] == 'Religion':\n",
        "        y.append(4)\n",
        "    if labels[i] == 'Sports':\n",
        "        y.append(5)\n",
        "    if labels[i] == 'Tech':\n",
        "        y.append(6)\n",
        "\n",
        "y = np.array(y)\n",
        "labels = tf.keras.utils.to_categorical(y, 7, dtype=\"float32\")\n",
        "del y"
      ],
      "metadata": {
        "id": "dBN8lqZyLaAi"
      },
      "execution_count": 40,
      "outputs": []
    },
    {
      "cell_type": "code",
      "source": [
        "len(labels),len(data)"
      ],
      "metadata": {
        "colab": {
          "base_uri": "https://localhost:8080/"
        },
        "id": "oiutXofSLaD2",
        "outputId": "0728e06a-22ac-4b8a-f2ab-58dd075b689e"
      },
      "execution_count": 41,
      "outputs": [
        {
          "output_type": "execute_result",
          "data": {
            "text/plain": [
              "(45485, 45485)"
            ]
          },
          "metadata": {},
          "execution_count": 41
        }
      ]
    },
    {
      "cell_type": "code",
      "source": [
        "from keras.models import Sequential\n",
        "from keras import layers\n",
        "from tensorflow.keras.optimizers import RMSprop,Adam\n",
        "from keras.preprocessing.text import Tokenizer\n",
        "from keras.preprocessing.sequence import pad_sequences\n",
        "from keras import regularizers\n",
        "from keras import backend as K\n",
        "from keras.callbacks import ModelCheckpoint\n",
        "max_words = 5000\n",
        "max_len = 200\n",
        "\n",
        "tokenizer = Tokenizer(num_words=max_words)\n",
        "tokenizer.fit_on_texts(data)\n",
        "sequences = tokenizer.texts_to_sequences(data)\n",
        "Temp = pad_sequences(sequences, maxlen=max_len)"
      ],
      "metadata": {
        "colab": {
          "base_uri": "https://localhost:8080/"
        },
        "id": "jBoRdTvsKD3n",
        "outputId": "e4318416-7827-4aae-8749-d728efd8d773"
      },
      "execution_count": 42,
      "outputs": [
        {
          "output_type": "stream",
          "name": "stdout",
          "text": [
            "[[   0    0    0 ...  121 1551 3733]\n",
            " [2131  643 1823 ... 1861   29 1142]\n",
            " [   0    0    0 ... 1118  527   71]\n",
            " ...\n",
            " [   0    0    0 ...  254  253 1968]\n",
            " [ 104    1 1196 ... 4813 2837 2055]\n",
            " [   0    0    0 ...  574  464  131]]\n"
          ]
        }
      ]
    },
    {
      "cell_type": "code",
      "source": [
        "X_train, X_test, y_train, y_test = train_test_split(Temp,labels,test_size = 0.2, random_state=42)\n",
        "X_test, X_val, y_test, y_val = train_test_split(X_test,y_test,test_size = 0.5, random_state=42)\n",
        "print (len(X_train),len(y_train),'\\n',len(X_test),len(y_test))\n",
        "print (len(X_val),len(y_val))"
      ],
      "metadata": {
        "colab": {
          "base_uri": "https://localhost:8080/"
        },
        "id": "W3f3Fck5NraK",
        "outputId": "76062f13-93d9-4129-e03f-c09e0289b351"
      },
      "execution_count": 43,
      "outputs": [
        {
          "output_type": "stream",
          "name": "stdout",
          "text": [
            "36388 36388 \n",
            " 4548 4548\n",
            "4549 4549\n"
          ]
        }
      ]
    },
    {
      "cell_type": "markdown",
      "source": [
        "## Single LSTM Layer"
      ],
      "metadata": {
        "id": "_d-GC2a9R2tg"
      }
    },
    {
      "cell_type": "code",
      "source": [
        "model1 = Sequential()\n",
        "model1.add(layers.Embedding(max_words, 20))\n",
        "model1.add(layers.LSTM(15,dropout=0.5))\n",
        "model1.add(layers.Dense(7,activation='softmax'))\n",
        "\n",
        "model1.compile(optimizer='rmsprop',loss='categorical_crossentropy', metrics=['accuracy'])\n",
        "#Implementing model checkpoins to save the best metric and do not lose it on training.\n",
        "history = model1.fit(X_train, y_train, epochs=10,validation_data=(X_test, y_test),callbacks=[])"
      ],
      "metadata": {
        "colab": {
          "base_uri": "https://localhost:8080/"
        },
        "id": "1LJa_IuGNrgF",
        "outputId": "60488ad9-396c-4a20-f78b-700daf71c99f"
      },
      "execution_count": 44,
      "outputs": [
        {
          "output_type": "stream",
          "name": "stdout",
          "text": [
            "Epoch 1/10\n",
            "1138/1138 [==============================] - 28s 17ms/step - loss: 1.1305 - accuracy: 0.5885 - val_loss: 0.5069 - val_accuracy: 0.8962\n",
            "Epoch 2/10\n",
            "1138/1138 [==============================] - 13s 12ms/step - loss: 0.3696 - accuracy: 0.9064 - val_loss: 0.3360 - val_accuracy: 0.9230\n",
            "Epoch 3/10\n",
            "1138/1138 [==============================] - 15s 13ms/step - loss: 0.2517 - accuracy: 0.9374 - val_loss: 0.2377 - val_accuracy: 0.9455\n",
            "Epoch 4/10\n",
            "1138/1138 [==============================] - 20s 18ms/step - loss: 0.2073 - accuracy: 0.9474 - val_loss: 0.2262 - val_accuracy: 0.9444\n",
            "Epoch 5/10\n",
            "1138/1138 [==============================] - 14s 13ms/step - loss: 0.1782 - accuracy: 0.9553 - val_loss: 0.1946 - val_accuracy: 0.9545\n",
            "Epoch 6/10\n",
            "1138/1138 [==============================] - 18s 16ms/step - loss: 0.1666 - accuracy: 0.9582 - val_loss: 0.2001 - val_accuracy: 0.9521\n",
            "Epoch 7/10\n",
            "1138/1138 [==============================] - 15s 13ms/step - loss: 0.1498 - accuracy: 0.9621 - val_loss: 0.1919 - val_accuracy: 0.9538\n",
            "Epoch 8/10\n",
            "1138/1138 [==============================] - 12s 11ms/step - loss: 0.1418 - accuracy: 0.9636 - val_loss: 0.1799 - val_accuracy: 0.9589\n",
            "Epoch 9/10\n",
            "1138/1138 [==============================] - 14s 12ms/step - loss: 0.1362 - accuracy: 0.9651 - val_loss: 0.1780 - val_accuracy: 0.9584\n",
            "Epoch 10/10\n",
            "1138/1138 [==============================] - 13s 11ms/step - loss: 0.1321 - accuracy: 0.9664 - val_loss: 0.1670 - val_accuracy: 0.9598\n"
          ]
        }
      ]
    },
    {
      "cell_type": "code",
      "source": [
        "model1.evaluate(X_test, y_test)"
      ],
      "metadata": {
        "colab": {
          "base_uri": "https://localhost:8080/"
        },
        "id": "LD-nXMTOdtYV",
        "outputId": "bb77e221-f9ad-4ee2-d696-dfadfef18b66"
      },
      "execution_count": 47,
      "outputs": [
        {
          "output_type": "stream",
          "name": "stdout",
          "text": [
            "143/143 [==============================] - 1s 8ms/step - loss: 0.1670 - accuracy: 0.9598\n"
          ]
        },
        {
          "output_type": "execute_result",
          "data": {
            "text/plain": [
              "[0.16704599559307098, 0.9597625136375427]"
            ]
          },
          "metadata": {},
          "execution_count": 47
        }
      ]
    },
    {
      "cell_type": "markdown",
      "source": [
        "## Bidirectional Layer"
      ],
      "metadata": {
        "id": "Y_CS1B9LSLBB"
      }
    },
    {
      "cell_type": "code",
      "source": [
        "model2 = Sequential()\n",
        "model2.add(layers.Embedding(max_words, 40, input_length=max_len))\n",
        "model2.add(layers.Bidirectional(layers.LSTM(20,dropout=0.4)))\n",
        "model2.add(layers.Dense(7,activation='softmax'))\n",
        "model2.compile(optimizer='rmsprop',loss='categorical_crossentropy', metrics=['accuracy'])\n",
        "#Implementing model checkpoins to save the best metric and do not lose it on training.\n",
        "checkpoint2 = ModelCheckpoint(\"best_model2.hdf5\", monitor='val_accuracy', verbose=1,save_best_only=True, mode='auto', period=1,save_weights_only=False)\n",
        "history = model2.fit(X_train, y_train, epochs=10,validation_data=(X_test, y_test),callbacks=[])"
      ],
      "metadata": {
        "colab": {
          "base_uri": "https://localhost:8080/"
        },
        "id": "hCjsWNPfNriw",
        "outputId": "375232f5-bcff-4daf-c18e-36efcb940f74"
      },
      "execution_count": 48,
      "outputs": [
        {
          "output_type": "stream",
          "name": "stderr",
          "text": [
            "WARNING:tensorflow:`period` argument is deprecated. Please use `save_freq` to specify the frequency in number of batches seen.\n"
          ]
        },
        {
          "output_type": "stream",
          "name": "stdout",
          "text": [
            "Epoch 1/10\n",
            "1138/1138 [==============================] - 27s 19ms/step - loss: 0.7965 - accuracy: 0.7116 - val_loss: 0.2758 - val_accuracy: 0.9233\n",
            "Epoch 2/10\n",
            "1138/1138 [==============================] - 21s 19ms/step - loss: 0.2178 - accuracy: 0.9373 - val_loss: 0.1858 - val_accuracy: 0.9505\n",
            "Epoch 3/10\n",
            "1138/1138 [==============================] - 26s 23ms/step - loss: 0.1535 - accuracy: 0.9583 - val_loss: 0.1794 - val_accuracy: 0.9556\n",
            "Epoch 4/10\n",
            "1138/1138 [==============================] - 20s 18ms/step - loss: 0.1280 - accuracy: 0.9658 - val_loss: 0.1504 - val_accuracy: 0.9595\n",
            "Epoch 5/10\n",
            "1138/1138 [==============================] - 20s 18ms/step - loss: 0.1133 - accuracy: 0.9686 - val_loss: 0.1615 - val_accuracy: 0.9611\n",
            "Epoch 6/10\n",
            "1138/1138 [==============================] - 20s 18ms/step - loss: 0.1007 - accuracy: 0.9719 - val_loss: 0.1658 - val_accuracy: 0.9560\n",
            "Epoch 7/10\n",
            "1138/1138 [==============================] - 20s 18ms/step - loss: 0.0898 - accuracy: 0.9747 - val_loss: 0.1658 - val_accuracy: 0.9593\n",
            "Epoch 8/10\n",
            "1138/1138 [==============================] - 23s 20ms/step - loss: 0.0875 - accuracy: 0.9758 - val_loss: 0.1585 - val_accuracy: 0.9633\n",
            "Epoch 9/10\n",
            "1138/1138 [==============================] - 21s 19ms/step - loss: 0.0788 - accuracy: 0.9790 - val_loss: 0.1524 - val_accuracy: 0.9626\n",
            "Epoch 10/10\n",
            "1138/1138 [==============================] - 21s 18ms/step - loss: 0.0759 - accuracy: 0.9795 - val_loss: 0.1682 - val_accuracy: 0.9633\n"
          ]
        }
      ]
    },
    {
      "cell_type": "code",
      "source": [
        "model2.evaluate(X_test, y_test)"
      ],
      "metadata": {
        "colab": {
          "base_uri": "https://localhost:8080/"
        },
        "id": "zppLjw_LfyJH",
        "outputId": "632e0427-83af-4acf-dd4a-35674c4a8169"
      },
      "execution_count": 49,
      "outputs": [
        {
          "output_type": "stream",
          "name": "stdout",
          "text": [
            "143/143 [==============================] - 1s 9ms/step - loss: 0.1682 - accuracy: 0.9633\n"
          ]
        },
        {
          "output_type": "execute_result",
          "data": {
            "text/plain": [
              "[0.16816940903663635, 0.9632805585861206]"
            ]
          },
          "metadata": {},
          "execution_count": 49
        }
      ]
    },
    {
      "cell_type": "markdown",
      "source": [
        "## Transformer"
      ],
      "metadata": {
        "id": "Hlw7yqBpTHF7"
      }
    },
    {
      "cell_type": "code",
      "source": [
        "import tensorflow as tf\n",
        "from tensorflow import keras\n",
        "from tensorflow.keras import layers"
      ],
      "metadata": {
        "id": "aBGgfbDsTLsB"
      },
      "execution_count": 50,
      "outputs": []
    },
    {
      "cell_type": "code",
      "source": [
        "class TransformerBlock(layers.Layer):\n",
        "    def __init__(self, embed_dim, num_heads, ff_dim, rate=0.1):\n",
        "        super(TransformerBlock, self).__init__()\n",
        "        self.att = layers.MultiHeadAttention(num_heads=num_heads, key_dim=embed_dim)\n",
        "        self.ffn = keras.Sequential(\n",
        "            [layers.Dense(ff_dim, activation=\"relu\"), layers.Dense(embed_dim),]\n",
        "        )\n",
        "        self.layernorm1 = layers.LayerNormalization(epsilon=1e-6)\n",
        "        self.layernorm2 = layers.LayerNormalization(epsilon=1e-6)\n",
        "        self.dropout1 = layers.Dropout(rate)\n",
        "        self.dropout2 = layers.Dropout(rate)\n",
        "\n",
        "    def call(self, inputs, training):\n",
        "        attn_output = self.att(inputs, inputs)\n",
        "        attn_output = self.dropout1(attn_output, training=training)\n",
        "        out1 = self.layernorm1(inputs + attn_output)\n",
        "        ffn_output = self.ffn(out1)\n",
        "        ffn_output = self.dropout2(ffn_output, training=training)\n",
        "        return self.layernorm2(out1 + ffn_output)"
      ],
      "metadata": {
        "id": "n0pZ93yBhvf5"
      },
      "execution_count": 54,
      "outputs": []
    },
    {
      "cell_type": "code",
      "source": [
        "class TokenAndPositionEmbedding(layers.Layer):\n",
        "    def __init__(self, maxlen, vocab_size, embed_dim):\n",
        "        super(TokenAndPositionEmbedding, self).__init__()\n",
        "        self.token_emb = layers.Embedding(input_dim=vocab_size, output_dim=embed_dim)\n",
        "        self.pos_emb = layers.Embedding(input_dim=maxlen, output_dim=embed_dim)\n",
        "\n",
        "    def call(self, x):\n",
        "        maxlen = tf.shape(x)[-1]\n",
        "        positions = tf.range(start=0, limit=maxlen, delta=1)\n",
        "        positions = self.pos_emb(positions)\n",
        "        x = self.token_emb(x)\n",
        "        return x + positions"
      ],
      "metadata": {
        "id": "rOueqDAfhviT"
      },
      "execution_count": 55,
      "outputs": []
    },
    {
      "cell_type": "code",
      "source": [
        "vocab_size = 5000  # Only consider the top 20k words\n",
        "maxlen = 200  # Only consider the first 200 words of each movie review\n",
        "\n",
        "# (x_train, y_train), (x_val, y_val) = keras.datasets.imdb.load_data(num_words=vocab_size)\n",
        "print(len(X_train), \"Training sequences\")\n",
        "print(len(X_test), \"Validation sequences\")\n",
        "x_train = keras.preprocessing.sequence.pad_sequences(X_train, maxlen=maxlen)\n",
        "x_test = keras.preprocessing.sequence.pad_sequences(X_test, maxlen=maxlen)"
      ],
      "metadata": {
        "colab": {
          "base_uri": "https://localhost:8080/"
        },
        "id": "a7VZBoS6hvlu",
        "outputId": "c247635e-5ca2-43d4-bc1c-faec6417f104"
      },
      "execution_count": 56,
      "outputs": [
        {
          "output_type": "stream",
          "name": "stdout",
          "text": [
            "36388 Training sequences\n",
            "4548 Validation sequences\n"
          ]
        }
      ]
    },
    {
      "cell_type": "code",
      "source": [
        "embed_dim = 32  # Embedding size for each token\n",
        "num_heads = 2  # Number of attention heads\n",
        "ff_dim = 32  # Hidden layer size in feed forward network inside transformer\n",
        "\n",
        "inputs = layers.Input(shape=(maxlen,))\n",
        "embedding_layer = TokenAndPositionEmbedding(maxlen, vocab_size, embed_dim)\n",
        "x = embedding_layer(inputs)\n",
        "transformer_block = TransformerBlock(embed_dim, num_heads, ff_dim)\n",
        "x = transformer_block(x)\n",
        "x = layers.GlobalAveragePooling1D()(x)\n",
        "x = layers.Dropout(0.1)(x)\n",
        "x = layers.Dense(20, activation=\"relu\")(x)\n",
        "x = layers.Dropout(0.1)(x)\n",
        "outputs = layers.Dense(7, activation=\"softmax\")(x)\n",
        "\n",
        "model = keras.Model(inputs=inputs, outputs=outputs)"
      ],
      "metadata": {
        "id": "POgdoOjlTLwn"
      },
      "execution_count": 57,
      "outputs": []
    },
    {
      "cell_type": "code",
      "source": [
        "model.compile(optimizer=\"rmsprop\", loss=\"CategoricalCrossentropy\", metrics=[\"accuracy\"])\n",
        "history = model.fit(\n",
        "    X_train, y_train, batch_size=32, epochs=10, validation_data=(X_val, y_val)\n",
        ")"
      ],
      "metadata": {
        "colab": {
          "base_uri": "https://localhost:8080/"
        },
        "id": "gzTsiwTsjxzV",
        "outputId": "1ffc622b-a033-4999-9cf3-525c5719f9a7"
      },
      "execution_count": 58,
      "outputs": [
        {
          "output_type": "stream",
          "name": "stdout",
          "text": [
            "Epoch 1/10\n",
            "1138/1138 [==============================] - 15s 10ms/step - loss: 0.3473 - accuracy: 0.8914 - val_loss: 0.1586 - val_accuracy: 0.9580\n",
            "Epoch 2/10\n",
            "1138/1138 [==============================] - 10s 9ms/step - loss: 0.1133 - accuracy: 0.9686 - val_loss: 0.0971 - val_accuracy: 0.9738\n",
            "Epoch 3/10\n",
            "1138/1138 [==============================] - 10s 9ms/step - loss: 0.0908 - accuracy: 0.9747 - val_loss: 0.1058 - val_accuracy: 0.9699\n",
            "Epoch 4/10\n",
            "1138/1138 [==============================] - 10s 9ms/step - loss: 0.0782 - accuracy: 0.9794 - val_loss: 0.1043 - val_accuracy: 0.9721\n",
            "Epoch 5/10\n",
            "1138/1138 [==============================] - 10s 9ms/step - loss: 0.0699 - accuracy: 0.9805 - val_loss: 0.1086 - val_accuracy: 0.9727\n",
            "Epoch 6/10\n",
            "1138/1138 [==============================] - 10s 9ms/step - loss: 0.0645 - accuracy: 0.9825 - val_loss: 0.1144 - val_accuracy: 0.9732\n",
            "Epoch 7/10\n",
            "1138/1138 [==============================] - 10s 9ms/step - loss: 0.0583 - accuracy: 0.9846 - val_loss: 0.1129 - val_accuracy: 0.9712\n",
            "Epoch 8/10\n",
            "1138/1138 [==============================] - 10s 9ms/step - loss: 0.0526 - accuracy: 0.9858 - val_loss: 0.1275 - val_accuracy: 0.9710\n",
            "Epoch 9/10\n",
            "1138/1138 [==============================] - 10s 9ms/step - loss: 0.0472 - accuracy: 0.9873 - val_loss: 0.1392 - val_accuracy: 0.9732\n",
            "Epoch 10/10\n",
            "1138/1138 [==============================] - 10s 9ms/step - loss: 0.0422 - accuracy: 0.9880 - val_loss: 0.1535 - val_accuracy: 0.9710\n"
          ]
        }
      ]
    },
    {
      "cell_type": "code",
      "source": [
        "model.evaluate(X_test, y_test)"
      ],
      "metadata": {
        "colab": {
          "base_uri": "https://localhost:8080/"
        },
        "id": "J6SesNQTTL0C",
        "outputId": "2e32d32d-f9eb-4bd3-8634-9841adb4803c"
      },
      "execution_count": 59,
      "outputs": [
        {
          "output_type": "stream",
          "name": "stdout",
          "text": [
            "143/143 [==============================] - 1s 5ms/step - loss: 0.1924 - accuracy: 0.9659\n"
          ]
        },
        {
          "output_type": "execute_result",
          "data": {
            "text/plain": [
              "[0.19237005710601807, 0.9659190773963928]"
            ]
          },
          "metadata": {},
          "execution_count": 59
        }
      ]
    },
    {
      "cell_type": "markdown",
      "source": [
        "# Make Prediction"
      ],
      "metadata": {
        "id": "cSO6ZDj_BYR8"
      }
    },
    {
      "cell_type": "code",
      "source": [
        "def print_Class(x):\n",
        "  if x == 0:\n",
        "    print(\"التصنيف: ثقافة\")\n",
        "\n",
        "  elif x == 1:\n",
        "    print(\"التصنيف: مالية\")\n",
        "\n",
        "  elif x == 2:\n",
        "    print(\"التصنيف: طبي\")\n",
        "\n",
        "  elif x == 3:\n",
        "    print(\"التصنيف: سياسي\")\n",
        "\n",
        "  elif x == 4:\n",
        "    print(\"التصنيف: ديني\")\n",
        "\n",
        "  elif x == 5:\n",
        "    print(\"التصنيف: رياضة\")\n",
        "\n",
        "  elif x == 6:\n",
        "    print(\"التصنيف: تقني\")\n"
      ],
      "metadata": {
        "id": "VCbsvqbvFtmf"
      },
      "execution_count": 1,
      "outputs": []
    },
    {
      "cell_type": "code",
      "source": [
        "Your_Text = \"والالتهاب الكبدي الفيروسي يصيب الجسم باليرقان jaundice (صفرة الجلد) ولاسيما لدي الأطفال. هناك خمسة أنواع من الالتهاب الكبدي هم(أ، ب، ج، د، هـ) كما توجد أنواع أخرى غير مصنفة أو غير واضحة الارتباط بالمرض مثل فيروس التهاب الكبد G. بعض الأنواع تنتقل بالاتصال الجنسي، والسبب الشائع في موت المرضي بالفيروسات الكبدية الفشل الكبدي الحاد مما يؤدي للغيبوبة والموت. يكون الالتهاب لدى الأطفال أقل حدة لكنه قد يولد فيما بعد تليف كبدي وتلفا بأنسجة الكبد أو الفشل الكبدي. ولا يوجد علاج خاص للالتهاب الكبدي الفيروسي. عندما يصاب الكبد بالالتهاب الكبد الفيروسي viral تموت خلاياه قد يؤدي إلى مضاعفات مختلفة، فقد يصاب المريض بالنزيف المتكرر نظراً لقلة إفراز الكبد لعوامل التجلط . ينتقل الالتهاب الكبدي أ عن طريق ملامسة براز وبول ولعاب المريض. والالتهاب الكبدي بفيروس التهاب الكبد ب وج ود ينتقلان من عمليات نقل الدم.\"\n",
        "\n",
        "\n",
        "\n",
        "\n",
        "print_Class(text_clf_LR.predict([Your_Text])[0])"
      ],
      "metadata": {
        "colab": {
          "base_uri": "https://localhost:8080/"
        },
        "id": "GQPsC6j-FMhs",
        "outputId": "91ec190c-cc31-43f2-bbfc-9933ebe9b4cb"
      },
      "execution_count": 13,
      "outputs": [
        {
          "output_type": "stream",
          "name": "stdout",
          "text": [
            "التصنيف: طبي\n"
          ]
        }
      ]
    }
  ]
}